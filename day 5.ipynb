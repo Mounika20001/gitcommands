{
 "cells": [
  {
   "cell_type": "markdown",
   "id": "pursuant-tomato",
   "metadata": {},
   "source": [
    "# functions"
   ]
  },
  {
   "cell_type": "code",
   "execution_count": 32,
   "id": "vertical-spotlight",
   "metadata": {},
   "outputs": [
    {
     "data": {
      "text/plain": [
       "4"
      ]
     },
     "execution_count": 32,
     "metadata": {},
     "output_type": "execute_result"
    }
   ],
   "source": [
    "l=[1,2,3,2,4,3]\n",
    "max(l)"
   ]
  },
  {
   "cell_type": "code",
   "execution_count": 33,
   "id": "ideal-baseline",
   "metadata": {},
   "outputs": [
    {
     "data": {
      "text/plain": [
       "1"
      ]
     },
     "execution_count": 33,
     "metadata": {},
     "output_type": "execute_result"
    }
   ],
   "source": [
    "min(l)"
   ]
  },
  {
   "cell_type": "code",
   "execution_count": 34,
   "id": "identified-principal",
   "metadata": {},
   "outputs": [
    {
     "data": {
      "text/plain": [
       "[1, 2, 2, 3, 3, 4]"
      ]
     },
     "execution_count": 34,
     "metadata": {},
     "output_type": "execute_result"
    }
   ],
   "source": [
    "sorted(l)"
   ]
  },
  {
   "cell_type": "code",
   "execution_count": 35,
   "id": "closing-ceiling",
   "metadata": {},
   "outputs": [
    {
     "data": {
      "text/plain": [
       "[4, 3, 3, 2, 2, 1]"
      ]
     },
     "execution_count": 35,
     "metadata": {},
     "output_type": "execute_result"
    }
   ],
   "source": [
    "sorted(l,reverse=True)"
   ]
  },
  {
   "cell_type": "code",
   "execution_count": 11,
   "id": "lonely-backing",
   "metadata": {},
   "outputs": [
    {
     "data": {
      "text/plain": [
       "'_'"
      ]
     },
     "execution_count": 11,
     "metadata": {},
     "output_type": "execute_result"
    }
   ],
   "source": [
    "chr(95)"
   ]
  },
  {
   "cell_type": "code",
   "execution_count": 12,
   "id": "thousand-operator",
   "metadata": {},
   "outputs": [
    {
     "data": {
      "text/plain": [
       "'a'"
      ]
     },
     "execution_count": 12,
     "metadata": {},
     "output_type": "execute_result"
    }
   ],
   "source": [
    "chr(97)"
   ]
  },
  {
   "cell_type": "code",
   "execution_count": 13,
   "id": "gross-helen",
   "metadata": {},
   "outputs": [
    {
     "data": {
      "text/plain": [
       "'C'"
      ]
     },
     "execution_count": 13,
     "metadata": {},
     "output_type": "execute_result"
    }
   ],
   "source": [
    "chr(67)"
   ]
  },
  {
   "cell_type": "code",
   "execution_count": 14,
   "id": "apparent-extreme",
   "metadata": {},
   "outputs": [
    {
     "data": {
      "text/plain": [
       "5.6"
      ]
     },
     "execution_count": 14,
     "metadata": {},
     "output_type": "execute_result"
    }
   ],
   "source": [
    "abs(5.6)"
   ]
  },
  {
   "cell_type": "markdown",
   "id": "seventh-occasions",
   "metadata": {},
   "source": [
    "# user defined"
   ]
  },
  {
   "cell_type": "markdown",
   "id": "legal-colon",
   "metadata": {},
   "source": [
    "    def\n",
    "    syntax:def functionname():\n",
    "        //statements \n",
    "        "
   ]
  },
  {
   "cell_type": "markdown",
   "id": "false-service",
   "metadata": {},
   "source": [
    "   # parameter & argument\n",
    "    parameter is a variable is used to define particular value during function definition\n",
    "    argument is a value passed to a function at the time of function calling"
   ]
  },
  {
   "cell_type": "code",
   "execution_count": 20,
   "id": "designing-membership",
   "metadata": {},
   "outputs": [
    {
     "data": {
      "text/plain": [
       "120"
      ]
     },
     "execution_count": 20,
     "metadata": {},
     "output_type": "execute_result"
    }
   ],
   "source": [
    "def fact(m):\n",
    "    #print(\"this a fact program\",m)\n",
    "    temp =1\n",
    "    for i in range(1,m+1):\n",
    "        temp = temp*i\n",
    "    return temp\n",
    "#m = int(input(\"enter number\"))\n",
    "fact(5)"
   ]
  },
  {
   "cell_type": "markdown",
   "id": "artistic-director",
   "metadata": {},
   "source": [
    "# without arg and without return value"
   ]
  },
  {
   "cell_type": "code",
   "execution_count": 24,
   "id": "cardiovascular-london",
   "metadata": {},
   "outputs": [
    {
     "name": "stdout",
     "output_type": "stream",
     "text": [
      "30\n"
     ]
    }
   ],
   "source": [
    "def adding():\n",
    "    a=20\n",
    "    b=10\n",
    "    print(a+b)\n",
    "adding()"
   ]
  },
  {
   "cell_type": "markdown",
   "id": "armed-mathematics",
   "metadata": {},
   "source": [
    "# without arg and with return value\n"
   ]
  },
  {
   "cell_type": "code",
   "execution_count": 26,
   "id": "unauthorized-structure",
   "metadata": {},
   "outputs": [
    {
     "name": "stdout",
     "output_type": "stream",
     "text": [
      "10\n"
     ]
    }
   ],
   "source": [
    "def subs():\n",
    "    a=30\n",
    "    b=20\n",
    "    print(a-b)\n",
    "subs()"
   ]
  },
  {
   "cell_type": "markdown",
   "id": "specialized-horse",
   "metadata": {},
   "source": [
    "# with arg and without return value"
   ]
  },
  {
   "cell_type": "code",
   "execution_count": 28,
   "id": "following-lancaster",
   "metadata": {},
   "outputs": [
    {
     "name": "stdout",
     "output_type": "stream",
     "text": [
      "200\n"
     ]
    }
   ],
   "source": [
    "def mul(a,b):\n",
    "    c=a*b\n",
    "    print(c)\n",
    "mul(10,20)"
   ]
  },
  {
   "cell_type": "markdown",
   "id": "hollow-sharing",
   "metadata": {},
   "source": [
    "# with arg and with return"
   ]
  },
  {
   "cell_type": "code",
   "execution_count": 31,
   "id": "operating-shoulder",
   "metadata": {},
   "outputs": [
    {
     "name": "stdout",
     "output_type": "stream",
     "text": [
      "1.25\n"
     ]
    }
   ],
   "source": [
    "def div (a,b):\n",
    "    c=a/b\n",
    "    print(c)\n",
    "div(50,40)"
   ]
  },
  {
   "cell_type": "raw",
   "id": "killing-democracy",
   "metadata": {},
   "source": []
  },
  {
   "cell_type": "markdown",
   "id": "national-butter",
   "metadata": {},
   "source": [
    "# arg passing has 4 different types"
   ]
  },
  {
   "cell_type": "markdown",
   "id": "muslim-allergy",
   "metadata": {},
   "source": [
    "    - default arg\n",
    "    - required arg\n",
    "    -  keyword arg\n",
    "     - variable length arg"
   ]
  },
  {
   "cell_type": "markdown",
   "id": "offensive-schedule",
   "metadata": {},
   "source": [
    "# default arg"
   ]
  },
  {
   "cell_type": "code",
   "execution_count": 40,
   "id": "nearby-northwest",
   "metadata": {},
   "outputs": [],
   "source": [
    "def sprt(n,a=10):\n",
    "    print(\"A value is : {}\\n Entered Name is:{}\".format(a,n))\n",
    "    "
   ]
  },
  {
   "cell_type": "code",
   "execution_count": 41,
   "id": "regulated-theme",
   "metadata": {},
   "outputs": [
    {
     "name": "stdout",
     "output_type": "stream",
     "text": [
      "A value is : 10\n",
      " Entered Name is:30\n"
     ]
    }
   ],
   "source": [
    "sprt(30)"
   ]
  },
  {
   "cell_type": "markdown",
   "id": "cordless-aurora",
   "metadata": {},
   "source": [
    "# Required or positional arg"
   ]
  },
  {
   "cell_type": "markdown",
   "id": "persistent-cookbook",
   "metadata": {},
   "source": [
    "    parameter size"
   ]
  },
  {
   "cell_type": "code",
   "execution_count": 44,
   "id": "standard-neighbor",
   "metadata": {},
   "outputs": [],
   "source": [
    " def lert(d,m):\n",
    "    print(\"Entered number is: {}\\n Entered number is:{}\".format(d,m))"
   ]
  },
  {
   "cell_type": "code",
   "execution_count": 48,
   "id": "packed-viking",
   "metadata": {},
   "outputs": [
    {
     "name": "stdout",
     "output_type": "stream",
     "text": [
      "Entered number is: 50\n",
      " Entered number is:60\n",
      "Entered number is: mouni\n",
      " Entered number is:65\n"
     ]
    }
   ],
   "source": [
    "lert(50,60)\n",
    "lert('mouni',65)"
   ]
  },
  {
   "cell_type": "markdown",
   "id": "broke-dominant",
   "metadata": {},
   "source": [
    "# keyword"
   ]
  },
  {
   "cell_type": "markdown",
   "id": "applicable-secret",
   "metadata": {},
   "source": [
    "    -> function calling (variable name)=>variables should be used in function call\n",
    "    -> zig-zag data can be accessed but we need to use the same variable names"
   ]
  },
  {
   "cell_type": "code",
   "execution_count": 49,
   "id": "corporate-dealer",
   "metadata": {},
   "outputs": [],
   "source": [
    "def wrty(sa,per):\n",
    "    print(\"Salary is :{}\\n Percentage is:{}\".format(sa,per))"
   ]
  },
  {
   "cell_type": "code",
   "execution_count": 52,
   "id": "weekly-twenty",
   "metadata": {},
   "outputs": [
    {
     "name": "stdout",
     "output_type": "stream",
     "text": [
      "Salary is :67\n",
      " Percentage is:65.0\n",
      "Salary is :78\n",
      " Percentage is:98\n"
     ]
    }
   ],
   "source": [
    "wrty(67,65.0)\n",
    "wrty(per=98,sa=78)"
   ]
  },
  {
   "cell_type": "markdown",
   "id": "mounted-requirement",
   "metadata": {},
   "source": [
    "# variable length arg"
   ]
  },
  {
   "cell_type": "markdown",
   "id": "anticipated-situation",
   "metadata": {},
   "source": [
    "    -> first value can be considered as a single value and the remaining all values can be accessed as in the format of tuple\n",
    "    ->** ->dict"
   ]
  },
  {
   "cell_type": "code",
   "execution_count": null,
   "id": "typical-vegetable",
   "metadata": {},
   "outputs": [],
   "source": [
    "def qtyu(q):\n",
    "    "
   ]
  }
 ],
 "metadata": {
  "kernelspec": {
   "display_name": "Python 3",
   "language": "python",
   "name": "python3"
  },
  "language_info": {
   "codemirror_mode": {
    "name": "ipython",
    "version": 3
   },
   "file_extension": ".py",
   "mimetype": "text/x-python",
   "name": "python",
   "nbconvert_exporter": "python",
   "pygments_lexer": "ipython3",
   "version": "3.8.3"
  }
 },
 "nbformat": 4,
 "nbformat_minor": 5
}

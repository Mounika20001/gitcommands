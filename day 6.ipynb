{
 "cells": [
  {
   "cell_type": "markdown",
   "id": "dated-electron",
   "metadata": {},
   "source": [
    "# CLASS"
   ]
  },
  {
   "cell_type": "code",
   "execution_count": 9,
   "id": "heavy-audio",
   "metadata": {},
   "outputs": [
    {
     "name": "stdout",
     "output_type": "stream",
     "text": [
      "16\n"
     ]
    }
   ],
   "source": [
    "class operations:\n",
    "    a=9\n",
    "    b=7\n",
    "    print(a+b)\n",
    "    def add():\n",
    "        print(\"this is addition\")"
   ]
  },
  {
   "cell_type": "code",
   "execution_count": 10,
   "id": "dimensional-retreat",
   "metadata": {},
   "outputs": [
    {
     "data": {
      "text/plain": [
       "9"
      ]
     },
     "execution_count": 10,
     "metadata": {},
     "output_type": "execute_result"
    }
   ],
   "source": [
    "operations.a"
   ]
  },
  {
   "cell_type": "code",
   "execution_count": 11,
   "id": "anonymous-weekend",
   "metadata": {},
   "outputs": [
    {
     "data": {
      "text/plain": [
       "7"
      ]
     },
     "execution_count": 11,
     "metadata": {},
     "output_type": "execute_result"
    }
   ],
   "source": [
    "operations.b"
   ]
  },
  {
   "cell_type": "code",
   "execution_count": 12,
   "id": "attended-basement",
   "metadata": {},
   "outputs": [
    {
     "name": "stdout",
     "output_type": "stream",
     "text": [
      "this is addition\n"
     ]
    }
   ],
   "source": [
    "operations.add()"
   ]
  },
  {
   "cell_type": "code",
   "execution_count": 13,
   "id": "needed-tenant",
   "metadata": {},
   "outputs": [],
   "source": [
    "data=operations"
   ]
  },
  {
   "cell_type": "code",
   "execution_count": 14,
   "id": "molecular-composite",
   "metadata": {},
   "outputs": [
    {
     "data": {
      "text/plain": [
       "9"
      ]
     },
     "execution_count": 14,
     "metadata": {},
     "output_type": "execute_result"
    }
   ],
   "source": [
    "data.a"
   ]
  },
  {
   "cell_type": "code",
   "execution_count": 15,
   "id": "lyric-completion",
   "metadata": {},
   "outputs": [
    {
     "data": {
      "text/plain": [
       "9"
      ]
     },
     "execution_count": 15,
     "metadata": {},
     "output_type": "execute_result"
    }
   ],
   "source": [
    "operations.a"
   ]
  },
  {
   "cell_type": "code",
   "execution_count": 16,
   "id": "special-bathroom",
   "metadata": {},
   "outputs": [
    {
     "data": {
      "text/plain": [
       "7"
      ]
     },
     "execution_count": 16,
     "metadata": {},
     "output_type": "execute_result"
    }
   ],
   "source": [
    "data.b"
   ]
  },
  {
   "cell_type": "code",
   "execution_count": 17,
   "id": "congressional-latter",
   "metadata": {},
   "outputs": [
    {
     "name": "stdout",
     "output_type": "stream",
     "text": [
      "this is addition\n"
     ]
    }
   ],
   "source": [
    "data.add()"
   ]
  },
  {
   "cell_type": "code",
   "execution_count": 18,
   "id": "urban-jordan",
   "metadata": {},
   "outputs": [],
   "source": [
    "data2=operations"
   ]
  },
  {
   "cell_type": "code",
   "execution_count": 19,
   "id": "structured-logan",
   "metadata": {},
   "outputs": [
    {
     "data": {
      "text/plain": [
       "9"
      ]
     },
     "execution_count": 19,
     "metadata": {},
     "output_type": "execute_result"
    }
   ],
   "source": [
    "data2.a"
   ]
  },
  {
   "cell_type": "markdown",
   "id": "electoral-thousand",
   "metadata": {},
   "source": [
    "# constructor"
   ]
  },
  {
   "cell_type": "markdown",
   "id": "according-inventory",
   "metadata": {},
   "source": [
    "       -> __init__\n",
    "        -> without call a function it executes"
   ]
  },
  {
   "cell_type": "code",
   "execution_count": 23,
   "id": "private-affair",
   "metadata": {},
   "outputs": [],
   "source": [
    "class op1:\n",
    "    def __init__(self):\n",
    "        print(\"this is constructor\")"
   ]
  },
  {
   "cell_type": "code",
   "execution_count": 24,
   "id": "selected-bachelor",
   "metadata": {},
   "outputs": [],
   "source": [
    "info=op1"
   ]
  },
  {
   "cell_type": "code",
   "execution_count": 25,
   "id": "governmental-handy",
   "metadata": {},
   "outputs": [
    {
     "data": {
      "text/plain": [
       "__main__.op1"
      ]
     },
     "execution_count": 25,
     "metadata": {},
     "output_type": "execute_result"
    }
   ],
   "source": [
    "info"
   ]
  },
  {
   "cell_type": "code",
   "execution_count": 26,
   "id": "adjusted-kidney",
   "metadata": {},
   "outputs": [
    {
     "name": "stdout",
     "output_type": "stream",
     "text": [
      "this is constructor\n"
     ]
    }
   ],
   "source": [
    "info=op1()"
   ]
  },
  {
   "cell_type": "code",
   "execution_count": 51,
   "id": "instant-local",
   "metadata": {},
   "outputs": [
    {
     "name": "stdout",
     "output_type": "stream",
     "text": [
      "5 5\n",
      "10\n",
      "this is mul method\n"
     ]
    }
   ],
   "source": [
    "class Op:\n",
    "    def __init__(self,a,b):\n",
    "        self.a=a\n",
    "        self.b=b\n",
    "        print(a,b)\n",
    "    \n",
    "    def add(self):\n",
    "        c= self.a+self.b\n",
    "        print(c)\n",
    "    \n",
    "    def mul():\n",
    "        print(\"this is mul method\")\n",
    "        \n",
    "data2=Op(5,5)\n",
    "data2.add()\n",
    "Op.mul()"
   ]
  },
  {
   "cell_type": "code",
   "execution_count": 45,
   "id": "exceptional-source",
   "metadata": {},
   "outputs": [
    {
     "name": "stdout",
     "output_type": "stream",
     "text": [
      "57 89 60\n",
      "second class\n"
     ]
    }
   ],
   "source": [
    "class t1:\n",
    "    def __init__(self,x,y,z):\n",
    "        self.x=x\n",
    "        self.y=y\n",
    "        self.z=z\n",
    "        print(x,y,z)\n",
    "        if x>50 and y>50 and z>50:\n",
    "            print(\"second class\")\n",
    "        elif x<40 and y<40 and z<40:\n",
    "            print(\"third class\")\n",
    "        else:   \n",
    "            print(\"default\")\n",
    "op1=t1(57,89,60)            "
   ]
  },
  {
   "cell_type": "code",
   "execution_count": null,
   "id": "guided-baking",
   "metadata": {},
   "outputs": [],
   "source": []
  },
  {
   "cell_type": "code",
   "execution_count": 47,
   "id": "quantitative-franchise",
   "metadata": {},
   "outputs": [
    {
     "name": "stdout",
     "output_type": "stream",
     "text": [
      "43 40 60\n",
      "default\n"
     ]
    }
   ],
   "source": [
    "class t1:\n",
    "    def __init__(self,x,y,z):\n",
    "        self.x=x\n",
    "        self.y=y\n",
    "        self.z=z\n",
    "        print(x,y,z)\n",
    "        if x>50 and y>50 and z>50:\n",
    "            print(\"second class\")\n",
    "        elif x<40 and y<40 and z<40:\n",
    "            print(\"third class\")\n",
    "        else:   \n",
    "            print(\"default\")\n",
    "op1=t1(43,40,60)            "
   ]
  },
  {
   "cell_type": "code",
   "execution_count": null,
   "id": "northern-genre",
   "metadata": {},
   "outputs": [],
   "source": [
    "a,b=input(),input()\n",
    "m=str(int(a)/int((b))\n",
    "k=\"\"\n",
    "      print(m)\n",
    "      for i in m[2:]:\n",
    "      if i not in \n",
    "    "
   ]
  },
  {
   "cell_type": "markdown",
   "id": "material-failure",
   "metadata": {},
   "source": [
    "# inheritance"
   ]
  },
  {
   "cell_type": "markdown",
   "id": "smart-affair",
   "metadata": {},
   "source": [
    "# types\n",
    "    -> single\n",
    "    -> multi level\n",
    "    -> multiple\n",
    "    -> hybrid"
   ]
  },
  {
   "cell_type": "code",
   "execution_count": 65,
   "id": "compliant-intake",
   "metadata": {},
   "outputs": [
    {
     "name": "stdout",
     "output_type": "stream",
     "text": [
      "this is parent class A\n",
      "this is child class B\n",
      "this is class C\n",
      "this is class D\n",
      "this is class E\n",
      "20\n",
      "10\n"
     ]
    }
   ],
   "source": [
    "class A:\n",
    "    print(\"this is parent class A\")\n",
    "    a=20\n",
    "    \n",
    "class B:\n",
    "    print(\"this is child class B\")\n",
    "    b=10\n",
    "    \n",
    "class C(A,B):\n",
    "    print(\"this is class C\")\n",
    "class D(A):\n",
    "    print(\"this is class D\")\n",
    "class E(D,B):  \n",
    "    print(\"this is class E\")    \n",
    "ob=E\n",
    "print(ob.a)\n",
    "print(ob.b)\n"
   ]
  },
  {
   "cell_type": "code",
   "execution_count": 67,
   "id": "optional-intervention",
   "metadata": {},
   "outputs": [
    {
     "name": "stdout",
     "output_type": "stream",
     "text": [
      "this is class C\n",
      "20\n",
      "10\n"
     ]
    }
   ],
   "source": [
    "class A:\n",
    "    #print(\"this is parent class A\")\n",
    "    a=20\n",
    "    \n",
    "class B:\n",
    "    #print(\"this is child class B\")\n",
    "    b=10\n",
    "    \n",
    "class C(A,B):\n",
    "    print(\"this is class C\")\n",
    "ob=C\n",
    "print(ob.a)\n",
    "print(ob.b)\n"
   ]
  },
  {
   "cell_type": "markdown",
   "id": "split-boutique",
   "metadata": {},
   "source": []
  }
 ],
 "metadata": {
  "kernelspec": {
   "display_name": "Python 3",
   "language": "python",
   "name": "python3"
  },
  "language_info": {
   "codemirror_mode": {
    "name": "ipython",
    "version": 3
   },
   "file_extension": ".py",
   "mimetype": "text/x-python",
   "name": "python",
   "nbconvert_exporter": "python",
   "pygments_lexer": "ipython3",
   "version": "3.7.4"
  }
 },
 "nbformat": 4,
 "nbformat_minor": 5
}

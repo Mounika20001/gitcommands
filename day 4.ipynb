{
 "cells": [
  {
   "cell_type": "code",
   "execution_count": 1,
   "id": "labeled-lebanon",
   "metadata": {},
   "outputs": [
    {
     "name": "stdout",
     "output_type": "stream",
     "text": [
      "178468765\n",
      "given number is:178468765\n",
      "it's even numbers are:6 8 6 4 8 \n",
      "it's odd numbers are:5 7 7 1 \n",
      "the count of even numbers:5\n",
      "the count of odd numbers:4\n",
      "the sum of even numbers:32\n",
      "the sum of even numbers:20\n"
     ]
    }
   ],
   "source": [
    "\n",
    "i=input()\n",
    "print(\"given number is:\",end=\"\")\n",
    "print(i)\n",
    "s,s1=0,0\n",
    "c,c1=0,0\n",
    "z=int(i)\n",
    "q=z\n",
    "print(\"it's even numbers are:\",end=\"\")\n",
    "while q!=0:\n",
    "        f=q%10\n",
    "        q=q//10\n",
    "        if f%2==0:\n",
    "            print(f,end=\" \")\n",
    "            c=c+1\n",
    "            s=s+f\n",
    "           \n",
    "print(\"\")\n",
    "print(\"it's odd numbers are:\",end=\"\")\n",
    "while z!=0:\n",
    "        f1=z%10\n",
    "        z=z//10\n",
    "        if f1%2!=0:\n",
    "            print(f1,end=\" \")\n",
    "            c1= c1+1\n",
    "            s1=s1+f1\n",
    "print(\"\")\n",
    "print(\"the count of even numbers:\",end=\"\")\n",
    "print(c)\n",
    "print(\"the count of odd numbers:\",end=\"\")\n",
    "print(c1)\n",
    "print(\"the sum of even numbers:\",end=\"\")\n",
    "print(s)\n",
    "print(\"the sum of even numbers:\",end=\"\")\n",
    "print(s1)\n",
    "\n"
   ]
  },
  {
   "cell_type": "code",
   "execution_count": null,
   "id": "painful-young",
   "metadata": {},
   "outputs": [],
   "source": []
  }
 ],
 "metadata": {
  "kernelspec": {
   "display_name": "Python 3",
   "language": "python",
   "name": "python3"
  },
  "language_info": {
   "codemirror_mode": {
    "name": "ipython",
    "version": 3
   },
   "file_extension": ".py",
   "mimetype": "text/x-python",
   "name": "python",
   "nbconvert_exporter": "python",
   "pygments_lexer": "ipython3",
   "version": "3.7.4"
  }
 },
 "nbformat": 4,
 "nbformat_minor": 5
}

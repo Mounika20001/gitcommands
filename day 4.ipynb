{
 "cells": [
  {
   "cell_type": "code",
   "execution_count": 1,
   "id": "electrical-discharge",
   "metadata": {},
   "outputs": [
    {
     "name": "stdout",
     "output_type": "stream",
     "text": [
      "178468765\n",
      "given number is:178468765\n",
      "it's even numbers are:6 8 6 4 8 \n",
      "it's odd numbers are:5 7 7 1 \n",
      "the count of even numbers:5\n",
      "the count of odd numbers:4\n",
      "the sum of even numbers:32\n",
      "the sum of even numbers:20\n"
     ]
    }
   ],
   "source": [
    "\n",
    "i=input()\n",
    "print(\"given number is:\",end=\"\")\n",
    "print(i)\n",
    "s,s1=0,0\n",
    "c,c1=0,0\n",
    "z=int(i)\n",
    "q=z\n",
    "print(\"it's even numbers are:\",end=\"\")\n",
    "while q!=0:\n",
    "        f=q%10\n",
    "        q=q//10\n",
    "        if f%2==0:\n",
    "            print(f,end=\" \")\n",
    "            c=c+1\n",
    "            s=s+f\n",
    "           \n",
    "print(\"\")\n",
    "print(\"it's odd numbers are:\",end=\"\")\n",
    "while z!=0:\n",
    "        f1=z%10\n",
    "        z=z//10\n",
    "        if f1%2!=0:\n",
    "            print(f1,end=\" \")\n",
    "            c1= c1+1\n",
    "            s1=s1+f1\n",
    "print(\"\")\n",
    "print(\"the count of even numbers:\",end=\"\")\n",
    "print(c)\n",
    "print(\"the count of odd numbers:\",end=\"\")\n",
    "print(c1)\n",
    "print(\"the sum of even numbers:\",end=\"\")\n",
    "print(s)\n",
    "print(\"the sum of even numbers:\",end=\"\")\n",
    "print(s1)\n",
    "\n"
   ]
  },
  {
   "cell_type": "code",
   "execution_count": 2,
   "id": "adapted-subject",
   "metadata": {},
   "outputs": [
    {
     "name": "stdout",
     "output_type": "stream",
     "text": [
      "567864871\n",
      "Even numbers are: 8 4 6 8 6 \n",
      "Even count is: 5\n",
      "Even numbers sum is:32\n",
      "odd numbers are: 1 7 7 5 \n",
      "Odd count is: 4\n",
      "odd numbers sum is:20\n"
     ]
    }
   ],
   "source": [
    "a=178468765\n",
    "r,esum,osum,ec,oc=0,0,0,0,0\n",
    "while a>0:\n",
    "   b=a%10\n",
    "   r=(r*10)+b\n",
    "   a=a//10\n",
    "print(r)\n",
    "n=r\n",
    "print(\"Even numbers are:\",end=\" \")\n",
    "while (r!=0):\n",
    "   d = r%10    \n",
    "   r = r // 10\n",
    "   if d%2==0:\n",
    "       esum=esum+d\n",
    "       ec=ec+1\n",
    "       print(\"{}\".format(d),end=\" \")\n",
    "print(end=\"\\n\")\n",
    "print(\"Even count is: {}\".format(ec))\n",
    "#print(end=\"\\n\")\n",
    "print(\"Even numbers sum is:{}\".format(esum))\n",
    "print(\"odd numbers are:\",end=\" \")\n",
    "while (n!=0):\n",
    "   d = n%10    \n",
    "   n = n// 10\n",
    "   if d%2==1:\n",
    "       osum=osum+d\n",
    "       oc=oc+1\n",
    "       print(\"{}\".format(d),end=\" \")\n",
    "print(end=\"\\n\")\n",
    "print(\"Odd count is: {}\".format(oc))\n",
    "#print(end=\"\\n\")\n",
    "print(\"odd numbers sum is:{}\".format(osum))\n",
    "           "
   ]
  },
  {
   "cell_type": "markdown",
   "id": "legendary-elite",
   "metadata": {},
   "source": [
    "- rsplit() vs split()\n",
    "- If maxsplit is specified, rsplit() counts splits from the right end,\n",
    "- whereas split() counts them from left. Otherwise, they both behave exactly the same."
   ]
  },
  {
   "cell_type": "markdown",
   "id": "indian-dining",
   "metadata": {},
   "source": [
    "# string methods"
   ]
  },
  {
   "cell_type": "code",
   "execution_count": 59,
   "id": "cloudy-serial",
   "metadata": {},
   "outputs": [
    {
     "data": {
      "text/plain": [
       "['__add__',\n",
       " '__class__',\n",
       " '__contains__',\n",
       " '__delattr__',\n",
       " '__dir__',\n",
       " '__doc__',\n",
       " '__eq__',\n",
       " '__format__',\n",
       " '__ge__',\n",
       " '__getattribute__',\n",
       " '__getitem__',\n",
       " '__getnewargs__',\n",
       " '__gt__',\n",
       " '__hash__',\n",
       " '__init__',\n",
       " '__init_subclass__',\n",
       " '__iter__',\n",
       " '__le__',\n",
       " '__len__',\n",
       " '__lt__',\n",
       " '__mod__',\n",
       " '__mul__',\n",
       " '__ne__',\n",
       " '__new__',\n",
       " '__reduce__',\n",
       " '__reduce_ex__',\n",
       " '__repr__',\n",
       " '__rmod__',\n",
       " '__rmul__',\n",
       " '__setattr__',\n",
       " '__sizeof__',\n",
       " '__str__',\n",
       " '__subclasshook__',\n",
       " 'capitalize',\n",
       " 'casefold',\n",
       " 'center',\n",
       " 'count',\n",
       " 'encode',\n",
       " 'endswith',\n",
       " 'expandtabs',\n",
       " 'find',\n",
       " 'format',\n",
       " 'format_map',\n",
       " 'index',\n",
       " 'isalnum',\n",
       " 'isalpha',\n",
       " 'isascii',\n",
       " 'isdecimal',\n",
       " 'isdigit',\n",
       " 'isidentifier',\n",
       " 'islower',\n",
       " 'isnumeric',\n",
       " 'isprintable',\n",
       " 'isspace',\n",
       " 'istitle',\n",
       " 'isupper',\n",
       " 'join',\n",
       " 'ljust',\n",
       " 'lower',\n",
       " 'lstrip',\n",
       " 'maketrans',\n",
       " 'partition',\n",
       " 'replace',\n",
       " 'rfind',\n",
       " 'rindex',\n",
       " 'rjust',\n",
       " 'rpartition',\n",
       " 'rsplit',\n",
       " 'rstrip',\n",
       " 'split',\n",
       " 'splitlines',\n",
       " 'startswith',\n",
       " 'strip',\n",
       " 'swapcase',\n",
       " 'title',\n",
       " 'translate',\n",
       " 'upper',\n",
       " 'zfill']"
      ]
     },
     "execution_count": 59,
     "metadata": {},
     "output_type": "execute_result"
    }
   ],
   "source": [
    "dir(str)"
   ]
  },
  {
   "cell_type": "code",
   "execution_count": 30,
   "id": "apart-jacket",
   "metadata": {},
   "outputs": [],
   "source": [
    "k = \"APSSDC Programs\""
   ]
  },
  {
   "cell_type": "code",
   "execution_count": 31,
   "id": "fewer-condition",
   "metadata": {},
   "outputs": [
    {
     "name": "stdout",
     "output_type": "stream",
     "text": [
      "APSSDC Programs\n"
     ]
    }
   ],
   "source": [
    "print(k)"
   ]
  },
  {
   "cell_type": "code",
   "execution_count": 32,
   "id": "cathedral-receptor",
   "metadata": {},
   "outputs": [
    {
     "name": "stdout",
     "output_type": "stream",
     "text": [
      "apssdc programs\n",
      "APSSDC PROGRAMS\n"
     ]
    }
   ],
   "source": [
    "\n",
    "print(k.lower())\n",
    "print(k.upper())"
   ]
  },
  {
   "cell_type": "code",
   "execution_count": 33,
   "id": "greek-watch",
   "metadata": {},
   "outputs": [
    {
     "name": "stdout",
     "output_type": "stream",
     "text": [
      "1\n",
      "2\n",
      "-1\n",
      "14\n",
      "3\n",
      "-1\n",
      "2\n"
     ]
    }
   ],
   "source": [
    "print(k.count('s'))\n",
    "print(k.find('S'))\n",
    "print(k.find('z'))\n",
    "print(k.rfind('s'))\n",
    "print(k.rfind('S'))\n",
    "print(k.rfind('z'))\n",
    "print(k.index('S'))"
   ]
  },
  {
   "cell_type": "code",
   "execution_count": 37,
   "id": "numerous-seven",
   "metadata": {},
   "outputs": [
    {
     "name": "stdout",
     "output_type": "stream",
     "text": [
      "mounika\n",
      "mounika\n",
      "['mounika']\n"
     ]
    }
   ],
   "source": [
    "m=input()\n",
    "print(m)\n",
    "print(m.split())"
   ]
  },
  {
   "cell_type": "code",
   "execution_count": 29,
   "id": "comfortable-syria",
   "metadata": {},
   "outputs": [
    {
     "name": "stdout",
     "output_type": "stream",
     "text": [
      "56543327634342786\n",
      "['565', '332763', '3', '2786']\n",
      "['565', '332763', '3', '2786']\n"
     ]
    }
   ],
   "source": [
    "l= input().split(\"4\")\n",
    "print(l)\n",
    "for i in l:\n",
    "    if i==\"\":\n",
    "        l.remove(\"\")\n",
    "print(l)\n"
   ]
  },
  {
   "cell_type": "code",
   "execution_count": 46,
   "id": "expected-geology",
   "metadata": {},
   "outputs": [
    {
     "name": "stdout",
     "output_type": "stream",
     "text": [
      "APSSDC Programs\n",
      "APSSDC Programs\n",
      "A,P,S,S,D,C, ,P,r,o,g,r,a,m,s\n"
     ]
    }
   ],
   "source": [
    "print(k)\n",
    "m=\",\".join(k)\n",
    "print(k)\n",
    "print(m)"
   ]
  },
  {
   "cell_type": "code",
   "execution_count": 50,
   "id": "bored-basket",
   "metadata": {},
   "outputs": [
    {
     "name": "stdout",
     "output_type": "stream",
     "text": [
      "APSSDC Programs\n",
      "[]PSSDC Programs\n"
     ]
    }
   ],
   "source": [
    "print(k)\n",
    "print(k.replace('A','[]'))"
   ]
  },
  {
   "cell_type": "code",
   "execution_count": 55,
   "id": "brutal-checklist",
   "metadata": {},
   "outputs": [
    {
     "name": "stdout",
     "output_type": "stream",
     "text": [
      "qyraqqqwqseqdqdtr\n",
      "reareadrwxcarte\n",
      "['', 'yra', '', '', 'w', 'se', 'd', 'dtr']\n",
      "['', 'ea', 'ead', 'wxca', 'te']\n"
     ]
    }
   ],
   "source": [
    "l=input().split('q')\n",
    "k=input().rsplit('r')\n",
    "print(l)\n",
    "print(k)"
   ]
  },
  {
   "cell_type": "markdown",
   "id": "noticed-desktop",
   "metadata": {},
   "source": [
    "# dictionary"
   ]
  },
  {
   "cell_type": "code",
   "execution_count": 60,
   "id": "corporate-history",
   "metadata": {},
   "outputs": [
    {
     "data": {
      "text/plain": [
       "['__class__',\n",
       " '__contains__',\n",
       " '__delattr__',\n",
       " '__delitem__',\n",
       " '__dir__',\n",
       " '__doc__',\n",
       " '__eq__',\n",
       " '__format__',\n",
       " '__ge__',\n",
       " '__getattribute__',\n",
       " '__getitem__',\n",
       " '__gt__',\n",
       " '__hash__',\n",
       " '__init__',\n",
       " '__init_subclass__',\n",
       " '__iter__',\n",
       " '__le__',\n",
       " '__len__',\n",
       " '__lt__',\n",
       " '__ne__',\n",
       " '__new__',\n",
       " '__reduce__',\n",
       " '__reduce_ex__',\n",
       " '__repr__',\n",
       " '__setattr__',\n",
       " '__setitem__',\n",
       " '__sizeof__',\n",
       " '__str__',\n",
       " '__subclasshook__',\n",
       " 'clear',\n",
       " 'copy',\n",
       " 'fromkeys',\n",
       " 'get',\n",
       " 'items',\n",
       " 'keys',\n",
       " 'pop',\n",
       " 'popitem',\n",
       " 'setdefault',\n",
       " 'update',\n",
       " 'values']"
      ]
     },
     "execution_count": 60,
     "metadata": {},
     "output_type": "execute_result"
    }
   ],
   "source": [
    "dir(dict)"
   ]
  },
  {
   "cell_type": "code",
   "execution_count": 61,
   "id": "modern-motel",
   "metadata": {},
   "outputs": [],
   "source": [
    "d={}"
   ]
  },
  {
   "cell_type": "code",
   "execution_count": 62,
   "id": "developing-stream",
   "metadata": {},
   "outputs": [
    {
     "data": {
      "text/plain": [
       "dict"
      ]
     },
     "execution_count": 62,
     "metadata": {},
     "output_type": "execute_result"
    }
   ],
   "source": [
    "type(d)"
   ]
  },
  {
   "cell_type": "code",
   "execution_count": 63,
   "id": "clean-whale",
   "metadata": {},
   "outputs": [],
   "source": [
    "d={\"name\":\"mouni\",\"roll\":\"ak565\",\"age\":\"20\"}"
   ]
  },
  {
   "cell_type": "code",
   "execution_count": 64,
   "id": "undefined-share",
   "metadata": {},
   "outputs": [
    {
     "name": "stdout",
     "output_type": "stream",
     "text": [
      "{'name': 'mouni', 'roll': 'ak565', 'age': '20'}\n"
     ]
    }
   ],
   "source": [
    "print(d)"
   ]
  },
  {
   "cell_type": "code",
   "execution_count": 65,
   "id": "desirable-characterization",
   "metadata": {},
   "outputs": [
    {
     "data": {
      "text/plain": [
       "dict_values(['mouni', 'ak565', '20'])"
      ]
     },
     "execution_count": 65,
     "metadata": {},
     "output_type": "execute_result"
    }
   ],
   "source": [
    "d.values()"
   ]
  },
  {
   "cell_type": "code",
   "execution_count": 66,
   "id": "experienced-cartoon",
   "metadata": {},
   "outputs": [
    {
     "data": {
      "text/plain": [
       "dict_items([('name', 'mouni'), ('roll', 'ak565'), ('age', '20')])"
      ]
     },
     "execution_count": 66,
     "metadata": {},
     "output_type": "execute_result"
    }
   ],
   "source": [
    "d.items()"
   ]
  },
  {
   "cell_type": "code",
   "execution_count": 67,
   "id": "great-explorer",
   "metadata": {},
   "outputs": [
    {
     "data": {
      "text/plain": [
       "dict_keys(['name', 'roll', 'age'])"
      ]
     },
     "execution_count": 67,
     "metadata": {},
     "output_type": "execute_result"
    }
   ],
   "source": [
    "d.keys()"
   ]
  },
  {
   "cell_type": "code",
   "execution_count": 69,
   "id": "exterior-institution",
   "metadata": {},
   "outputs": [
    {
     "data": {
      "text/plain": [
       "'ak565'"
      ]
     },
     "execution_count": 69,
     "metadata": {},
     "output_type": "execute_result"
    }
   ],
   "source": [
    "d.get('roll')"
   ]
  },
  {
   "cell_type": "code",
   "execution_count": 91,
   "id": "dimensional-singapore",
   "metadata": {},
   "outputs": [],
   "source": [
    "d.setdefault('a1')"
   ]
  },
  {
   "cell_type": "code",
   "execution_count": 92,
   "id": "behind-blanket",
   "metadata": {},
   "outputs": [
    {
     "data": {
      "text/plain": [
       "{'name': 'mouni', 'age': '20', 0: None, 'a': None, 'a1': None}"
      ]
     },
     "execution_count": 92,
     "metadata": {},
     "output_type": "execute_result"
    }
   ],
   "source": [
    "d"
   ]
  },
  {
   "cell_type": "code",
   "execution_count": 93,
   "id": "australian-smell",
   "metadata": {},
   "outputs": [],
   "source": [
    "s={\"a3\":6}"
   ]
  },
  {
   "cell_type": "code",
   "execution_count": 94,
   "id": "qualified-indie",
   "metadata": {},
   "outputs": [],
   "source": [
    "d.update(s)"
   ]
  },
  {
   "cell_type": "code",
   "execution_count": 95,
   "id": "naked-charleston",
   "metadata": {},
   "outputs": [
    {
     "data": {
      "text/plain": [
       "{'name': 'mouni', 'age': '20', 0: None, 'a': None, 'a1': None, 'a3': 6}"
      ]
     },
     "execution_count": 95,
     "metadata": {},
     "output_type": "execute_result"
    }
   ],
   "source": [
    "d"
   ]
  },
  {
   "cell_type": "code",
   "execution_count": 96,
   "id": "federal-utilization",
   "metadata": {},
   "outputs": [
    {
     "data": {
      "text/plain": [
       "('a3', 6)"
      ]
     },
     "execution_count": 96,
     "metadata": {},
     "output_type": "execute_result"
    }
   ],
   "source": [
    "d.popitem()"
   ]
  },
  {
   "cell_type": "code",
   "execution_count": 101,
   "id": "bearing-cinema",
   "metadata": {},
   "outputs": [
    {
     "data": {
      "text/plain": [
       "'20'"
      ]
     },
     "execution_count": 101,
     "metadata": {},
     "output_type": "execute_result"
    }
   ],
   "source": [
    "d.pop('age')"
   ]
  },
  {
   "cell_type": "code",
   "execution_count": 102,
   "id": "prospective-brother",
   "metadata": {},
   "outputs": [
    {
     "data": {
      "text/plain": [
       "{'name': 'mouni', 0: None, 'a': None}"
      ]
     },
     "execution_count": 102,
     "metadata": {},
     "output_type": "execute_result"
    }
   ],
   "source": [
    "d"
   ]
  },
  {
   "cell_type": "code",
   "execution_count": 103,
   "id": "physical-johnson",
   "metadata": {},
   "outputs": [],
   "source": [
    "d.setdefault('a2')"
   ]
  },
  {
   "cell_type": "code",
   "execution_count": 104,
   "id": "linear-sense",
   "metadata": {},
   "outputs": [
    {
     "data": {
      "text/plain": [
       "{'name': 'mouni', 0: None, 'a': None, 'a2': None}"
      ]
     },
     "execution_count": 104,
     "metadata": {},
     "output_type": "execute_result"
    }
   ],
   "source": [
    "d"
   ]
  },
  {
   "cell_type": "code",
   "execution_count": 105,
   "id": "synthetic-palmer",
   "metadata": {},
   "outputs": [],
   "source": [
    "d.pop('a')"
   ]
  },
  {
   "cell_type": "code",
   "execution_count": 106,
   "id": "proof-connection",
   "metadata": {},
   "outputs": [
    {
     "data": {
      "text/plain": [
       "{'name': 'mouni', 0: None, 'a2': None}"
      ]
     },
     "execution_count": 106,
     "metadata": {},
     "output_type": "execute_result"
    }
   ],
   "source": [
    "d"
   ]
  },
  {
   "cell_type": "code",
   "execution_count": 107,
   "id": "opened-galaxy",
   "metadata": {},
   "outputs": [
    {
     "data": {
      "text/plain": [
       "('a2', None)"
      ]
     },
     "execution_count": 107,
     "metadata": {},
     "output_type": "execute_result"
    }
   ],
   "source": [
    "d.popitem()"
   ]
  },
  {
   "cell_type": "code",
   "execution_count": 113,
   "id": "lasting-positive",
   "metadata": {},
   "outputs": [],
   "source": [
    "d={\"roll\":\"ak565\"}"
   ]
  },
  {
   "cell_type": "code",
   "execution_count": 114,
   "id": "prostate-artwork",
   "metadata": {},
   "outputs": [
    {
     "data": {
      "text/plain": [
       "{'roll': 'ak565'}"
      ]
     },
     "execution_count": 114,
     "metadata": {},
     "output_type": "execute_result"
    }
   ],
   "source": [
    "d"
   ]
  },
  {
   "cell_type": "code",
   "execution_count": 115,
   "id": "comprehensive-violence",
   "metadata": {},
   "outputs": [
    {
     "data": {
      "text/plain": [
       "dict_items([('roll', 'ak565')])"
      ]
     },
     "execution_count": 115,
     "metadata": {},
     "output_type": "execute_result"
    }
   ],
   "source": [
    "d.items()"
   ]
  },
  {
   "cell_type": "code",
   "execution_count": 116,
   "id": "assigned-winning",
   "metadata": {},
   "outputs": [],
   "source": [
    "d={\"name1\":\"mouni\",\"name2\":\"hari\",\"name3\":\"appu\"}"
   ]
  },
  {
   "cell_type": "code",
   "execution_count": 117,
   "id": "pacific-pittsburgh",
   "metadata": {},
   "outputs": [
    {
     "data": {
      "text/plain": [
       "{'name1': 'mouni', 'name2': 'hari', 'name3': 'appu'}"
      ]
     },
     "execution_count": 117,
     "metadata": {},
     "output_type": "execute_result"
    }
   ],
   "source": [
    "d"
   ]
  },
  {
   "cell_type": "code",
   "execution_count": 120,
   "id": "dominican-brand",
   "metadata": {},
   "outputs": [
    {
     "data": {
      "text/plain": [
       "('name3', 'appu')"
      ]
     },
     "execution_count": 120,
     "metadata": {},
     "output_type": "execute_result"
    }
   ],
   "source": [
    "d={\"name1\":\"mouni\",\"name2\":\"hari\",\"name3\":\"appu\"}\n",
    "d.popitem()"
   ]
  },
  {
   "cell_type": "code",
   "execution_count": 141,
   "id": "prescription-newark",
   "metadata": {},
   "outputs": [
    {
     "data": {
      "text/plain": [
       "dict_values(['mouni', 'hari'])"
      ]
     },
     "execution_count": 141,
     "metadata": {},
     "output_type": "execute_result"
    }
   ],
   "source": [
    "\n",
    "d={\"name1\":\"mouni\",\"name2\":\"hari\",\"name3\":\"appu\"}\n",
    "d.popitem()\n",
    "d.values()\n"
   ]
  },
  {
   "cell_type": "code",
   "execution_count": 139,
   "id": "bored-fruit",
   "metadata": {},
   "outputs": [
    {
     "name": "stdout",
     "output_type": "stream",
     "text": [
      "5:2\n",
      "6:2\n",
      "2:1\n",
      "1:1\n"
     ]
    }
   ],
   "source": [
    "x=['5','6','5','6','2','1']\n",
    "frequency={}\n",
    "for items in x:\n",
    "    if items in frequency:\n",
    "        frequency[items]+=1\n",
    "    else:\n",
    "        frequency[items]=1\n",
    "for key,value in frequency.items():\n",
    "        print (\"{}:{}\".format(key,value))\n",
    "       \n",
    "        \n",
    "               \n",
    "            "
   ]
  },
  {
   "cell_type": "markdown",
   "id": "reduced-corps",
   "metadata": {},
   "source": [
    "# sets"
   ]
  },
  {
   "cell_type": "markdown",
   "id": "stainless-china",
   "metadata": {},
   "source": [
    "    -> unordered data\n",
    "    -> duplicates will not allow \n",
    "    -> {}\n",
    "    ->indexing will not be present,slicing can't be done\n",
    "    -> it can change the values"
   ]
  },
  {
   "cell_type": "code",
   "execution_count": 146,
   "id": "incorporate-quantity",
   "metadata": {},
   "outputs": [
    {
     "data": {
      "text/plain": [
       "['__and__',\n",
       " '__class__',\n",
       " '__contains__',\n",
       " '__delattr__',\n",
       " '__dir__',\n",
       " '__doc__',\n",
       " '__eq__',\n",
       " '__format__',\n",
       " '__ge__',\n",
       " '__getattribute__',\n",
       " '__gt__',\n",
       " '__hash__',\n",
       " '__iand__',\n",
       " '__init__',\n",
       " '__init_subclass__',\n",
       " '__ior__',\n",
       " '__isub__',\n",
       " '__iter__',\n",
       " '__ixor__',\n",
       " '__le__',\n",
       " '__len__',\n",
       " '__lt__',\n",
       " '__ne__',\n",
       " '__new__',\n",
       " '__or__',\n",
       " '__rand__',\n",
       " '__reduce__',\n",
       " '__reduce_ex__',\n",
       " '__repr__',\n",
       " '__ror__',\n",
       " '__rsub__',\n",
       " '__rxor__',\n",
       " '__setattr__',\n",
       " '__sizeof__',\n",
       " '__str__',\n",
       " '__sub__',\n",
       " '__subclasshook__',\n",
       " '__xor__',\n",
       " 'add',\n",
       " 'clear',\n",
       " 'copy',\n",
       " 'difference',\n",
       " 'difference_update',\n",
       " 'discard',\n",
       " 'intersection',\n",
       " 'intersection_update',\n",
       " 'isdisjoint',\n",
       " 'issubset',\n",
       " 'issuperset',\n",
       " 'pop',\n",
       " 'remove',\n",
       " 'symmetric_difference',\n",
       " 'symmetric_difference_update',\n",
       " 'union',\n",
       " 'update']"
      ]
     },
     "execution_count": 146,
     "metadata": {},
     "output_type": "execute_result"
    }
   ],
   "source": [
    "dir(set)"
   ]
  },
  {
   "cell_type": "code",
   "execution_count": 147,
   "id": "played-banana",
   "metadata": {},
   "outputs": [
    {
     "name": "stdout",
     "output_type": "stream",
     "text": [
      "{'hari', 1, 2, 3, 4, 'appu', 'mouni'}\n"
     ]
    }
   ],
   "source": [
    "s={1,2,3,4,'mouni','hari','appu'}\n",
    "print(s)"
   ]
  },
  {
   "cell_type": "code",
   "execution_count": 149,
   "id": "commercial-assist",
   "metadata": {},
   "outputs": [],
   "source": [
    "s.add(56)"
   ]
  },
  {
   "cell_type": "code",
   "execution_count": 150,
   "id": "virtual-bride",
   "metadata": {},
   "outputs": [
    {
     "data": {
      "text/plain": [
       "{1, 2, 3, 4, 56, 'appu', 'hari', 'mouni'}"
      ]
     },
     "execution_count": 150,
     "metadata": {},
     "output_type": "execute_result"
    }
   ],
   "source": [
    "s"
   ]
  },
  {
   "cell_type": "code",
   "execution_count": 154,
   "id": "chinese-champion",
   "metadata": {},
   "outputs": [
    {
     "name": "stdout",
     "output_type": "stream",
     "text": [
      "{1, 3, 4, 5, 7, 8}\n",
      "{34, 35, 67, 9, 12, 50, 60}\n",
      "{1, 34, 3, 4, 5, 35, 7, 8, 67, 9, 12, 50, 60}\n",
      "{34, 35, 67, 9, 12, 50, 60}\n"
     ]
    }
   ],
   "source": [
    "s1={1,3,4,5,7,8}\n",
    "s2={12,34,50,60,35,67,9}\n",
    "print(s1)\n",
    "print(s2)\n",
    "s1= s1.union(s2)\n",
    "print(s1)\n",
    "print(s2)"
   ]
  },
  {
   "cell_type": "code",
   "execution_count": 157,
   "id": "exotic-schedule",
   "metadata": {},
   "outputs": [
    {
     "name": "stdout",
     "output_type": "stream",
     "text": [
      "{1, 3, 4, 5, 7, 8}\n",
      "{34, 35, 67, 9, 12, 50, 60}\n",
      "set()\n",
      "{1, 3, 4, 5, 7, 8}\n",
      "{34, 35, 67, 9, 12, 50, 60}\n"
     ]
    }
   ],
   "source": [
    "s1={1,3,4,5,7,8}\n",
    "s2={12,34,50,60,35,67,9}\n",
    "print(s1)\n",
    "print(s2)\n",
    "k=s1.intersection(s2)\n",
    "print(k)\n",
    "print(s1)\n",
    "print(s2)"
   ]
  },
  {
   "cell_type": "code",
   "execution_count": 168,
   "id": "silent-gabriel",
   "metadata": {},
   "outputs": [
    {
     "name": "stdout",
     "output_type": "stream",
     "text": [
      "{1, 3, 4, 5, 7, 8}\n",
      "{3, 4, 35, 67, 9, 12, 50, 60}\n",
      "{8, 1, 5, 7}\n",
      "{1, 3, 4, 5, 7, 8}\n",
      "{3, 4, 35, 67, 9, 12, 50, 60}\n"
     ]
    }
   ],
   "source": [
    "s1={1,3,4,5,7,8}\n",
    "s2={12,3,4,50,60,35,67,9}\n",
    "print(s1)\n",
    "print(s2)\n",
    "k=s1.difference(s2)\n",
    "print(k)\n",
    "print(s1)\n",
    "print(s2)"
   ]
  },
  {
   "cell_type": "code",
   "execution_count": 162,
   "id": "national-trail",
   "metadata": {},
   "outputs": [
    {
     "name": "stdout",
     "output_type": "stream",
     "text": [
      "{1, 3, 4, 5, 7, 8}\n",
      "{34, 35, 67, 9, 12, 50, 60}\n",
      "{1, 3, 4, 5, 7, 8}\n",
      "{34, 35, 67, 9, 12, 50, 60}\n"
     ]
    }
   ],
   "source": [
    "s1={1,3,4,5,7,8}\n",
    "s2={12,34,50,60,35,67,9}\n",
    "print(s1)\n",
    "print(s2)\n",
    "s1.difference_update(s2)\n",
    "print(s1)\n",
    "print(s2)"
   ]
  },
  {
   "cell_type": "code",
   "execution_count": 164,
   "id": "prescribed-planet",
   "metadata": {},
   "outputs": [
    {
     "name": "stdout",
     "output_type": "stream",
     "text": [
      "{35, 67, 9, 12, 50, 60}\n",
      "{67, 9, 12, 50, 60}\n"
     ]
    }
   ],
   "source": [
    "print(s2)\n",
    "s2.pop()\n",
    "print(s2)"
   ]
  },
  {
   "cell_type": "code",
   "execution_count": 166,
   "id": "revised-barrier",
   "metadata": {},
   "outputs": [
    {
     "name": "stdout",
     "output_type": "stream",
     "text": [
      "{'madhu', 'hari', 'papa'}\n"
     ]
    }
   ],
   "source": [
    "s3={'mouni','hari','madhu','papa'}\n",
    "s3.pop()\n",
    "print(s3)"
   ]
  },
  {
   "cell_type": "code",
   "execution_count": 167,
   "id": "killing-polymer",
   "metadata": {},
   "outputs": [
    {
     "name": "stdout",
     "output_type": "stream",
     "text": [
      "{67, 9, 12, 50, 60}\n",
      "{67, 9, 12, 60}\n"
     ]
    }
   ],
   "source": [
    "print(s2)\n",
    "s2.discard(50)\n",
    "print(s2)"
   ]
  },
  {
   "cell_type": "code",
   "execution_count": 169,
   "id": "consecutive-shaft",
   "metadata": {},
   "outputs": [
    {
     "name": "stdout",
     "output_type": "stream",
     "text": [
      "{'pq', 'hello', 're', 'hru'}\n"
     ]
    }
   ],
   "source": [
    "p1 ={'hi','hello','hru'} \n",
    "p2 ={'pq','re','hi'}\n",
    "p3 =p1.symmetric_difference(p2)\n",
    "print(p3)"
   ]
  },
  {
   "cell_type": "code",
   "execution_count": 172,
   "id": "patient-spending",
   "metadata": {},
   "outputs": [
    {
     "name": "stdout",
     "output_type": "stream",
     "text": [
      "{'hello', 'hru', 're', 'pq'}\n"
     ]
    }
   ],
   "source": [
    "p1 ={'hi','hello','hru'} \n",
    "p2 ={'pq','re','hi'}\n",
    "p1.symmetric_difference_update(p2)\n",
    "print(p1)"
   ]
  },
  {
   "cell_type": "markdown",
   "id": "located-press",
   "metadata": {},
   "source": [
    "# functions"
   ]
  },
  {
   "cell_type": "code",
   "execution_count": null,
   "id": "close-trade",
   "metadata": {},
   "outputs": [],
   "source": []
  }
 ],
 "metadata": {
  "kernelspec": {
   "display_name": "Python 3",
   "language": "python",
   "name": "python3"
  },
  "language_info": {
   "codemirror_mode": {
    "name": "ipython",
    "version": 3
   },
   "file_extension": ".py",
   "mimetype": "text/x-python",
   "name": "python",
   "nbconvert_exporter": "python",
   "pygments_lexer": "ipython3",
   "version": "3.7.4"
  }
 },
 "nbformat": 4,
 "nbformat_minor": 5
}
